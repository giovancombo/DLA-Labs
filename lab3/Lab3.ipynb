{
 "cells": [
  {
   "cell_type": "markdown",
   "id": "9bdf4d12",
   "metadata": {},
   "source": [
    "***Deep Learning Applications 2023** course, held by Professor **Andrew David Bagdanov** - University of Florence, Italy*\n",
    "\n",
    "*Notebook and code created by **Giovanni Colombo** - Mat. 7092745*\n",
    "\n",
    "Check the dedicated [Repository on GitHub](https://github.com/giovancombo/DLA-Labs/tree/main/lab3)."
   ]
  },
  {
   "cell_type": "markdown",
   "id": "f6ae2782-57ea-48f0-b948-b412d0076ffc",
   "metadata": {},
   "source": [
    "# Deep Learning Applications: Laboratory #3 - DRL\n",
    "\n",
    "In this laboratory session we will hack one of your colleague's (Francesco Fantechi, from Ingegneria Informatica) implementation of a navigation environment for Deep Reinforcement Learning. The setup is fairly simple:\n",
    "\n",
    "+ A simple 2D environment with a (limited) number of *obstacles* and a single *goal* is presented to the agent, which must learn how to navigate to the goal without hitting any obstacles.\n",
    "+ The agent *observes* the environment via a set of 16 rays cast uniformly which return the distance to the first obstacle encountered, as well as the distance and direction to the goal.\n",
    "+ The agent has three possible actions: `ROTATE LEFT`, `ROTATE RIGHT`, or `MOVE FORWARD`.\n",
    "\n",
    "For each step of an episode, the agent receives a reward of:\n",
    "+ -100 if hitting an obstacle (episode ends).\n",
    "+ -100 if one hundred steps are reached without hitting the goal.\n",
    "+ +500 if hitting the goal (episode ends)\n",
    "+ A small *positive* reward if the distance to the goal is *reduced*.\n",
    "+ A small *negative* reward if the distance to the goal is *increased*.\n",
    "\n",
    "In the file `main.py` you will find an implementation of **Deep Q-Learning**."
   ]
  },
  {
   "cell_type": "markdown",
   "id": "2a5adad7-759b-4000-925b-701f41fe6e97",
   "metadata": {},
   "source": [
    "## Exercise 1: Testing the Environment\n",
    "\n",
    "The first thing to do is verify that the environment is working in your Anaconda virtual environment. I had a weird problem with Tensorboard and had to downgrade it using:\n",
    "\n",
    "    conda install -c conda-forge tensorboard=2.11.2\n",
    "    \n",
    "In any case, you should be able to run:\n",
    "\n",
    "    python main.py\n",
    "    \n",
    "from the repository root and it will run episodes using a pretrained agent. To train an agent from scratch, you must modify `main.py` setting `TRAIN = True` at the top. Then running `main.py` again will train an agent for 2000 episodes of training. To run the trained agent you will again have to modify `main.py` on line 225 to load the last saved checkpoint:\n",
    "\n",
    "    PATH = './checkpoints/last.pth'\n",
    "    \n",
    "and then run the script again (after setting `TRAIN = False` !).\n",
    "\n",
    "Make sure you can at run the demo agent and train one from scratch. If you don't have a GPU you can set the number of training episodes to a smaller number."
   ]
  },
  {
   "cell_type": "code",
   "execution_count": null,
   "id": "8d9c95cd",
   "metadata": {},
   "outputs": [],
   "source": [
    "# Set TRAIN = True for training and then False for testing\n",
    "!python Navigation_Goal_Deep_Q_Learning/main.py"
   ]
  },
  {
   "cell_type": "markdown",
   "id": "b5ac9092",
   "metadata": {},
   "source": [
    "Well, I guess I did it. The main script works. I let it train for 1000 episodes.\n",
    "\n",
    "Qualitatively, it's possible to see that the agents looks like it has not learned so well to find the goal. Many times, the agent hits the walls or obstables without even trying to change direction, even just after the spawn. Some other times, the agent finds its way to the goal, until it stops right in front of it and changes direction."
   ]
  },
  {
   "cell_type": "markdown",
   "id": "66ed9279-3a2f-4fcd-bf29-b105b2da8433",
   "metadata": {},
   "source": [
    "## Exercise 2: Stabilizing Q-Learning\n",
    "\n"
   ]
  },
  {
   "cell_type": "markdown",
   "id": "4d92f64f",
   "metadata": {},
   "source": [
    "Ok, so, now that I verified that the environment works, it's now time to stabilize Q-Learning via tweaking the hyperparameters and the architecture. This will just be an ablation study, in the end."
   ]
  },
  {
   "cell_type": "code",
   "execution_count": null,
   "id": "d947b300",
   "metadata": {},
   "outputs": [],
   "source": []
  },
  {
   "cell_type": "markdown",
   "id": "1feafbec",
   "metadata": {},
   "source": [
    "## Exercise 3: Going Deeper\n",
    "\n",
    "As usual, pick **AT LEAST ONE** of the following exercises to complete.\n",
    "\n",
    "### Exercise 3.1: Solving the environment with `REINFORCE`\n",
    "\n",
    "Use my (or even better, improve on my) implementation of `REINFORCE` to solve the environment.\n",
    "\n",
    "**Note**: There is a *design flaw* in the environment implementation that will lead to strange (by explainable) behavior in agents trained with `REINFORCE`. See if you can figure it out and fix it."
   ]
  },
  {
   "cell_type": "markdown",
   "id": "6f1ac1f8",
   "metadata": {},
   "source": [
    "There are many things that can be improved in this implementation. Some things you can think about:\n",
    "\n",
    "1. **Replay**. In the current implementation we execute an episode, and then immediately run an optimization step on all of the steps of the episode. Not only are we using *correlated* samples from a single episode, we are decidedly *not* taking advantage of parallelism via batch gradient descent. Note that `REINFORCE` does **not** require entire trajectories, all we need are the discounted rewards and log probabilities for *individual transitions*.\n",
    "\n",
    "2. **Exploration**. The model is probably overfitting (or perhaps remaining too *plastic*, which can explain the unstable convergence). Our policy is *always* stochastic in that we sample from the output distribution. It would be interesting to add a temperature parameter to the policy so that we can control this behavior, or even implement a deterministic policy sampler that always selects the action with max probability to evaluate the quality of the learned policy network.\n",
    "\n",
    "3. **Discount Factor**: The discount factor (default $\\gamma = 0.99$) is an important hyperparameter that has an effect on the stability of training. Try different values for $\\gamma$ and see how it affects training. Can you think of other ways to stabilize training?"
   ]
  },
  {
   "cell_type": "markdown",
   "id": "2fdebbc5",
   "metadata": {},
   "source": [
    "So, what I will do now is the following:\n",
    "1) Testing the REINFORCE algorithm as it is in the script\n",
    "2) Implementing a REINFORCE algorithm that takes into account individual transitions instead of entire trajectories\n",
    "3) Implementing a sort of epsilon-greedy approach for sampling actions from the distribution given by the policy\n",
    "4) Trying different values for gamma and other hyperparameters"
   ]
  },
  {
   "cell_type": "code",
   "execution_count": null,
   "metadata": {},
   "outputs": [],
   "source": [
    "import numpy as np\n",
    "\n",
    "rewards = [1,1,1,1,1]\n",
    "gamma = 0.90\n",
    "\n",
    "def compute_returns(rewards, gamma):\n",
    "    return np.flip(np.cumsum([gamma**(i+1)*r for (i, r) in enumerate(rewards)][::-1]), 0).copy()\n",
    "\n",
    "print(compute_returns(rewards, gamma))"
   ]
  },
  {
   "cell_type": "code",
   "execution_count": null,
   "id": "033d5d5e",
   "metadata": {},
   "outputs": [],
   "source": [
    "discountedRewards = []\n",
    "for t in range(len(rewards)):\n",
    "    G = 0.0\n",
    "    for k, r in enumerate(rewards[t:]):\n",
    "        G += (gamma ** k) * r\n",
    "    discountedRewards.append(G)\n",
    "\n",
    "print(np.array(discountedRewards))"
   ]
  },
  {
   "cell_type": "code",
   "execution_count": null,
   "id": "12742de8",
   "metadata": {},
   "outputs": [],
   "source": [
    "# Here, I try to solve the Navigation Goal environment using the provided REINFORCE implementation\n",
    "\n",
    "import matplotlib.pyplot as plt\n",
    "import gymnasium\n",
    "\n",
    "from reinforce import *\n",
    "from policy import *\n",
    "\n",
    "# In the new version of Gymnasium you need different environments for rendering and no rendering.\n",
    "# Here we instaintiate two versions of cartpole, one that animates the episodes (which slows everything\n",
    "# down), and another that does not animate.\n",
    "env = gymnasium.make('CartPole-v0', render_mode=None)\n",
    "env_render = gymnasium.make('CartPole-v0', render_mode='human')\n",
    "\n",
    "# Make a policy network.\n",
    "policy = PolicyNet(env, 64).to(device)\n",
    "\n",
    "# Train the agent.\n",
    "running  = reinforce(policy, env, env_render, device=device, lr=1e-3, num_episodes=500)\n",
    "#running += reinforce(policy, env, env_render, device=device, lr=1e-5, num_episodes=100)\n",
    "plt.plot(running)\n",
    "\n",
    "# Close up everything\n",
    "env_render.close()\n",
    "env.close()"
   ]
  },
  {
   "cell_type": "markdown",
   "id": "f58a9a01",
   "metadata": {},
   "source": [
    "I'll now try to implement my own version of the REINFORCE algorithm. Let's first test the environment."
   ]
  },
  {
   "cell_type": "code",
   "execution_count": null,
   "id": "d5d6f630",
   "metadata": {},
   "outputs": [],
   "source": [
    "import gymnasium as gym\n",
    "import torch\n",
    "from torch.distributions import Categorical\n",
    "import matplotlib.pyplot as plt\n",
    "import wandb\n",
    "\n",
    "wandb.login()\n",
    "\n",
    "from policy import *\n",
    "\n",
    "plt.style.use('fivethirtyeight')\n",
    "device = torch.device('cuda' if torch.cuda.is_available() else 'cpu')"
   ]
  },
  {
   "cell_type": "code",
   "execution_count": null,
   "id": "72e92edb",
   "metadata": {},
   "outputs": [],
   "source": [
    "config = dict(\n",
    "    env_name = 'CartPole-v0', #\"LunarLander-v2\",#\"gym_navigation:NavigationGoal-v0\",\n",
    "    hidden_size = 64,\n",
    "    lr = 1e-3,\n",
    "    gamma = 0.99,\n",
    "    episodes = 1000,)\n",
    "\n",
    "env = gym.make(config['env_name'], render_mode='human') \n",
    "policy = PolicyNet(env, config['hidden_size']).to(device)\n",
    "optimizer = torch.optim.Adam(policy.parameters(), lr=config['lr'])\n",
    "\n",
    "\n",
    "with wandb.init(project=\"navigation-goal\", config=config):\n",
    "    config = wandb.config\n",
    "\n",
    "    running_rewards = [0.0]\n",
    "    policy.train()\n",
    "    for episode in range(config['episodes']):\n",
    "        (state, _) = env.reset()\n",
    "        terminated, truncated = False, False\n",
    "        states, actions, log_probs, rewards = [], [], [], []\n",
    "        score = 0\n",
    "\n",
    "        while True:\n",
    "            env.render()\n",
    "            action_probs = policy(torch.tensor(state, dtype = torch.float32, device = device))  # Logits = Tensor of shape 3 (3 actions)\n",
    "            dist = Categorical(probs = action_probs)    # Create a categorical distribution over the actions\n",
    "            action = dist.sample().item()               # Sample an action from the policy\n",
    "\n",
    "            states.append(state)\n",
    "            state, reward, terminated, truncated, _ = env.step(action)\n",
    "\n",
    "            # Log probability of the chosen action\n",
    "            log_prob = dist.log_prob(torch.tensor(action, dtype = torch.long, device=device))\n",
    "            log_probs.append(log_prob.reshape(1))\n",
    "            actions.append(action)\n",
    "            rewards.append(reward)\n",
    "            score += reward\n",
    "\n",
    "            if terminated or truncated:\n",
    "                states.append(state)\n",
    "                break\n",
    "        \n",
    "        discountedRewards = []\n",
    "        for t in range(len(rewards)):\n",
    "            G = 0.0\n",
    "            for k, r in enumerate(rewards[t:]):\n",
    "                G += (config['gamma'] ** k) * r\n",
    "            discountedRewards.append(G)\n",
    "\n",
    "        log_probs = torch.cat(log_probs).to(device)\n",
    "        discountedRewards = torch.tensor(discountedRewards, dtype = torch.float32, device = device)\n",
    "        running_rewards.append(0.005 * discountedRewards[0].item() + 0.995 * running_rewards[-1])\n",
    "        discountedRewards = ((discountedRewards - discountedRewards.mean()) / (discountedRewards.std() + 1e-6))\n",
    "\n",
    "        optimizer.zero_grad()\n",
    "        policy_loss = (-log_probs * discountedRewards).sum()\n",
    "        policy_loss.backward()\n",
    "        optimizer.step()\n",
    "\n",
    "        print(f'Episode {episode+1}, {len(rewards)}\\tScore: {score:.2f}; Policy loss: {policy_loss:.2f}; Running reward: {running_rewards[-1]:.2f}')\n",
    "\n",
    "        wandb.log({\"score\": score,\n",
    "                \"policy_loss\": policy_loss,\n",
    "                \"running_reward\": running_rewards}, step=episode)\n",
    "\n",
    "    env.close()"
   ]
  },
  {
   "cell_type": "code",
   "execution_count": null,
   "id": "c0c8b5f6",
   "metadata": {},
   "outputs": [],
   "source": [
    "plt.plot(scores)"
   ]
  },
  {
   "cell_type": "code",
   "execution_count": null,
   "id": "2d396684",
   "metadata": {},
   "outputs": [],
   "source": [
    "# with wandb.init(project=\"navigation-goal\", config=config):\n",
    "#     config = wandb.config\n",
    "\n",
    "scores = []\n",
    "policy.train()\n",
    "for episode in range(config['episodes']):\n",
    "    (state, _) = env.reset()\n",
    "    terminated, truncated = False, False\n",
    "    states, actions, log_probs, rewards = [], [], [], []\n",
    "    score = 0\n",
    "\n",
    "    while True:\n",
    "        env.render()\n",
    "        action_probs = policy(torch.tensor(state, dtype = torch.float32, device = device))  # Logits = Tensor of shape 3 (3 actions)\n",
    "        dist = Categorical(probs = action_probs)    # Create a categorical distribution over the actions\n",
    "        action = dist.sample().item()               # Sample an action from the policy\n",
    "\n",
    "        #log_probs.append(dist.log_prob(torch.tensor(action, dtype = torch.long, device=device)))     # Log probability of the chosen action\n",
    "        states.append(state)\n",
    "\n",
    "        state, reward, terminated, truncated, _ = env.step(action)\n",
    "        actions.append(torch.tensor(action, dtype = torch.long, device=device))\n",
    "        rewards.append(reward)\n",
    "        score += reward\n",
    "\n",
    "        if terminated or truncated:\n",
    "            states.append(state)\n",
    "            break\n",
    "    \n",
    "    discountedRewards = []\n",
    "    for t in range(len(rewards)):\n",
    "        G = 0.0\n",
    "        for k, r in enumerate(rewards[t:]):\n",
    "            G += (config['gamma'] ** k) * r\n",
    "        discountedRewards.append(G)\n",
    "\n",
    "    for state, action, G in zip(states, actions, discountedRewards):\n",
    "        action_probs = policy(torch.tensor(state, dtype = torch.float32, device = device))\n",
    "        dist = Categorical(probs = action_probs)    # Create a categorical distribution over the actions\n",
    "        log_prob = dist.log_prob(action)\n",
    "\n",
    "        policy_loss = -log_prob * G\n",
    "\n",
    "        optimizer.zero_grad()\n",
    "        policy_loss.backward()\n",
    "        optimizer.step()\n",
    "\n",
    "    print(f'Episode {episode+1}, {len(rewards)}\\tScore: {score:.2f}')\n",
    "\n",
    "    scores.append(score)\n",
    "\n",
    "env.close()"
   ]
  },
  {
   "cell_type": "markdown",
   "id": "9ad32251",
   "metadata": {},
   "source": [
    "### Exercise 3.2: Solving another environment\n",
    "\n",
    "The [Gymnasium](https://gymnasium.farama.org/) framework has a ton of interesting and fun environments to work with. Pick one and try to solve it using any technique you like. The [Lunar Lander](https://gymnasium.farama.org/environments/box2d/lunar_lander/) environment is a fun one."
   ]
  },
  {
   "cell_type": "markdown",
   "id": "28b6c801",
   "metadata": {},
   "source": [
    "Ok, so, let's build a new LunarLander environment, with render mode so that we can graphically see progress of our lander."
   ]
  },
  {
   "cell_type": "markdown",
   "id": "12b45c9d",
   "metadata": {},
   "source": [
    "To set things, I start implementing a lander that takes totally random actions at each time tick. The total reward will be very bad."
   ]
  },
  {
   "cell_type": "code",
   "execution_count": null,
   "id": "75049b42",
   "metadata": {},
   "outputs": [],
   "source": [
    "import gymnasium as gym\n",
    "import torch\n",
    "import matplotlib.pyplot as plt\n",
    "import wandb\n",
    "\n",
    "wandb.login()\n",
    "\n",
    "from policy import *\n",
    "\n",
    "plt.style.use('fivethirtyeight')\n",
    "device = torch.device('cuda' if torch.cuda.is_available() else 'cpu')\n",
    "\n",
    "config = dict(\n",
    "    env_name = 'CartPole-v0', #\"LunarLander-v2\",#\"gym_navigation:NavigationGoal-v0\",\n",
    "    hidden_size = 64,\n",
    "    lr = 1e-3,\n",
    "    gamma = 0.99,\n",
    "    episodes = 1000,)\n",
    "\n",
    "env = gym.make(config['env_name'], render_mode='human', gravity=0.0,\n",
    "                                              enable_wind=False,\n",
    "                                              wind_power=0.0,\n",
    "                                              turbulence_power=0.0,)\n",
    "policy = PolicyNet(env, config['hidden_size']).to(device)\n",
    "optimizer = torch.optim.Adam(policy.parameters(), lr=config['lr'])\n",
    "\n",
    "scores = []\n",
    "policy.train()\n",
    "for episode in range(config['episodes']):\n",
    "    (state, _) = env.reset()\n",
    "    terminated, truncated = False, False\n",
    "    score = 0\n",
    "\n",
    "    while True:\n",
    "        env.render()\n",
    "        action = env.action_space.sample()\n",
    "        state, reward, terminated, truncated, info = env.step(action)\n",
    "        score += reward\n",
    "        if terminated or truncated:\n",
    "            break\n",
    "    \n",
    "    print(f'Episode {episode+1}, {len(rewards)}\\tScore: {score:.2f}')\n",
    "\n",
    "env.close()"
   ]
  },
  {
   "cell_type": "markdown",
   "id": "9997e40f",
   "metadata": {},
   "source": [
    "...As expected. Now I will try to use the REINFORCE algorithm"
   ]
  },
  {
   "cell_type": "code",
   "execution_count": null,
   "id": "54251a3f",
   "metadata": {},
   "outputs": [],
   "source": [
    "from combo_reinforce import combo_reinforce\n",
    "\n",
    "# with wandb.init(project=\"navigation-goal\", config=config):\n",
    "#     config = wandb.config\n",
    "\n",
    "score = combo_reinforce(env, policy, lr = config['lr'], gamma = config['gamma'], episodes = config['episodes'], device = device)\n",
    "\n",
    "# wandb.log({\"score\": score}, step=episode)\n",
    "\n",
    "env.close()"
   ]
  },
  {
   "cell_type": "markdown",
   "id": "a0bb3c63",
   "metadata": {},
   "source": [
    "And finally, the Deep Q-Learning technique."
   ]
  },
  {
   "cell_type": "code",
   "execution_count": null,
   "id": "f3c7b5a1",
   "metadata": {},
   "outputs": [],
   "source": []
  },
  {
   "cell_type": "markdown",
   "id": "64bf1447-d222-4b24-a357-5b7f9824390c",
   "metadata": {},
   "source": [
    "### Exercise 3.3: Advanced techniques \n",
    "\n",
    "The `REINFORCE` and Q-Learning approaches, though venerable, are not even close to the state-of-the-art. Try using an off-the-shelf implementation of [Proximal Policy Optimization (PPO)](https://arxiv.org/abs/1707.06347) to solve one (or more) of these environments. Compare your results with those of Q-Learning and/or REINFORCE."
   ]
  },
  {
   "cell_type": "code",
   "execution_count": null,
   "id": "517b8a52-d97b-4c32-bfcb-9069e7527ee0",
   "metadata": {},
   "outputs": [],
   "source": []
  }
 ],
 "metadata": {
  "kernelspec": {
   "display_name": "Python 3 (ipykernel)",
   "language": "python",
   "name": "python3"
  },
  "language_info": {
   "codemirror_mode": {
    "name": "ipython",
    "version": 3
   },
   "file_extension": ".py",
   "mimetype": "text/x-python",
   "name": "python",
   "nbconvert_exporter": "python",
   "pygments_lexer": "ipython3",
   "version": "3.10.10"
  }
 },
 "nbformat": 4,
 "nbformat_minor": 5
}
